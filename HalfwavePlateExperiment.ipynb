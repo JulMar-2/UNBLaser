{
  "nbformat": 4,
  "nbformat_minor": 0,
  "metadata": {
    "colab": {
      "provenance": [],
      "authorship_tag": "ABX9TyO9IPfMnnNE0/9SmsUCjAsr",
      "include_colab_link": true
    },
    "kernelspec": {
      "name": "python3",
      "display_name": "Python 3"
    },
    "language_info": {
      "name": "python"
    }
  },
  "cells": [
    {
      "cell_type": "markdown",
      "metadata": {
        "id": "view-in-github",
        "colab_type": "text"
      },
      "source": [
        "<a href=\"https://colab.research.google.com/github/cristianramirezrodriguez/UNBLaser/blob/main/HalfwavePlateExperiment.ipynb\" target=\"_parent\"><img src=\"https://colab.research.google.com/assets/colab-badge.svg\" alt=\"Open In Colab\"/></a>"
      ]
    },
    {
      "cell_type": "markdown",
      "source": [
        "# Halfwave Plate Experiment\n",
        "\n",
        "In this notebook we attempt to fit the function $F(\\theta) = (A_1 \\cos{\\theta}+A_2\\cos{2\\theta})^2 + C$, where $\\theta = x+\\phi$ to our data which is in the form of a csv file with $x$ and $F(\\theta)$ coordinates."
      ],
      "metadata": {
        "id": "Dh3bNhcZNpKO"
      }
    },
    {
      "cell_type": "code",
      "source": [
        "#pip install statements if necessary\n",
        "#!pip install matplotlib\n",
        "#!pip install pandas\n",
        "!pip install lmfit\n",
        "#!pip install os"
      ],
      "metadata": {
        "colab": {
          "base_uri": "https://localhost:8080/"
        },
        "id": "x8rVzGgrPetX",
        "outputId": "882662e4-ca81-4c41-d5eb-edb03ff472db"
      },
      "execution_count": 2,
      "outputs": [
        {
          "output_type": "stream",
          "name": "stdout",
          "text": [
            "Collecting lmfit\n",
            "  Downloading lmfit-1.3.2-py3-none-any.whl.metadata (13 kB)\n",
            "Collecting asteval>=1.0 (from lmfit)\n",
            "  Downloading asteval-1.0.2-py3-none-any.whl.metadata (6.2 kB)\n",
            "Requirement already satisfied: numpy>=1.19 in /usr/local/lib/python3.10/dist-packages (from lmfit) (1.26.4)\n",
            "Requirement already satisfied: scipy>=1.6 in /usr/local/lib/python3.10/dist-packages (from lmfit) (1.13.1)\n",
            "Collecting uncertainties>=3.2.2 (from lmfit)\n",
            "  Downloading uncertainties-3.2.2-py3-none-any.whl.metadata (6.9 kB)\n",
            "Collecting dill>=0.3.4 (from lmfit)\n",
            "  Downloading dill-0.3.8-py3-none-any.whl.metadata (10 kB)\n",
            "Downloading lmfit-1.3.2-py3-none-any.whl (98 kB)\n",
            "\u001b[2K   \u001b[90m━━━━━━━━━━━━━━━━━━━━━━━━━━━━━━━━━━━━━━━━\u001b[0m \u001b[32m98.9/98.9 kB\u001b[0m \u001b[31m4.5 MB/s\u001b[0m eta \u001b[36m0:00:00\u001b[0m\n",
            "\u001b[?25hDownloading asteval-1.0.2-py3-none-any.whl (21 kB)\n",
            "Downloading dill-0.3.8-py3-none-any.whl (116 kB)\n",
            "\u001b[2K   \u001b[90m━━━━━━━━━━━━━━━━━━━━━━━━━━━━━━━━━━━━━━━━\u001b[0m \u001b[32m116.3/116.3 kB\u001b[0m \u001b[31m7.6 MB/s\u001b[0m eta \u001b[36m0:00:00\u001b[0m\n",
            "\u001b[?25hDownloading uncertainties-3.2.2-py3-none-any.whl (58 kB)\n",
            "\u001b[2K   \u001b[90m━━━━━━━━━━━━━━━━━━━━━━━━━━━━━━━━━━━━━━━━\u001b[0m \u001b[32m58.3/58.3 kB\u001b[0m \u001b[31m4.1 MB/s\u001b[0m eta \u001b[36m0:00:00\u001b[0m\n",
            "\u001b[?25hInstalling collected packages: uncertainties, dill, asteval, lmfit\n",
            "Successfully installed asteval-1.0.2 dill-0.3.8 lmfit-1.3.2 uncertainties-3.2.2\n"
          ]
        }
      ]
    },
    {
      "cell_type": "code",
      "source": [
        "#Import Statements\n",
        "import numpy as np\n",
        "import matplotlib.pyplot as plt\n",
        "import pandas as pd\n",
        "import lmfit as lm\n",
        "import os\n",
        "from typing import Callable"
      ],
      "metadata": {
        "id": "yJqXZxlrPAnA"
      },
      "execution_count": 3,
      "outputs": []
    },
    {
      "cell_type": "code",
      "execution_count": 4,
      "metadata": {
        "id": "kQFL-dauNooH"
      },
      "outputs": [],
      "source": [
        "#Defining the fit function\n",
        "def fit_func(x: np.ndarray, A1: float, A2: float, C: float, phi: float) -> np.ndarray:\n",
        "    return (A1 * np.cos(x + phi) + A2 * np.cos(2 * x + phi)) ** 2 + C"
      ]
    },
    {
      "cell_type": "code",
      "source": [
        "#Fitting algorithm\n",
        "\n",
        "def lmfit(x: np.ndarray, y: np.ndarray, title: str, dest_dir: str, params: lm.Parameters, func: Callable):\n",
        "\t\"\"\"Plot a general fit curve of a set of data\"\"\"\n",
        "\n",
        "\tShowInitialGuess = True\n",
        "\n",
        "\tmodel  = lm.Model(func)\n",
        "\n",
        "\t# fit the curve to those parameters\n",
        "\tresult = model.fit(y, params, x=x)\n",
        "\n",
        "\t# give a report on the parameters\n",
        "\tprint(result.fit_report())\n",
        "\t# write the report into a text file\n",
        "\twith open(f\"{dest_dir}\\\\{title}.txt\", \"w\") as f:\n",
        "\t\tf.write(result.fit_report())\n",
        "\n",
        "\n",
        "\tfig = plt.figure(figsize=(7,5), constrained_layout=True)\n",
        "\twratios, hratios = ([1], [1, 3])\n",
        "\tgs  = fig.add_gridspec(nrows=2, ncols=1, width_ratios=wratios, height_ratios=hratios)\n",
        "\tax1 = fig.add_subplot(gs[1,0])\n",
        "\tax0 = fig.add_subplot(gs[0,0], sharex=ax1)\n",
        "\taxs = [ax0, ax1]\n",
        "\tplt.setp(ax0.get_xticklabels(), visible=False)\n",
        "\n",
        "\taxs[0].set_ylabel(r'$y - f(x)$')\n",
        "\taxs[1].set_xlabel(r'Measured Position (radians)')\n",
        "\taxs[1].set_ylabel(r'Measured Power (mW)')\n",
        "\n",
        "\taxs[0].plot(x, y-result.best_fit, color='black', marker='.', linestyle='', label='Residuals')\n",
        "\taxs[1].plot(x, y, color='black', marker='.', linestyle='', label='Data')\n",
        "\taxs[1].plot(x, result.best_fit, color='crimson', marker='', linestyle='-', label='Best fit')\n",
        "\n",
        "\tif ShowInitialGuess:\n",
        "\t\taxs[1].plot(x, result.init_fit, color='royalblue', marker='', linestyle='-', label='Initial guess')\n",
        "\n",
        "\tfor ax in axs:\n",
        "\t\tax.legend(loc='best')\n",
        "\t\tax.grid()\n",
        "\n",
        "\tplt.title(title)\n",
        "\tplt.savefig(f\"{dest_dir}\\\\{title}.pdf\", format=\"pdf\")\n",
        "\tplt.close()"
      ],
      "metadata": {
        "id": "bCCAkD5DQX-t"
      },
      "execution_count": 5,
      "outputs": []
    },
    {
      "cell_type": "code",
      "source": [
        "def main():\n",
        "  df = pd.read_csv(r\"aug_28.csv\").to_numpy()\n",
        "  x = df[:, 1]\n",
        "  y = df[:, 2]\n",
        "  y2 = df[:, 3]\n",
        "  params = lm.Parameters()\n",
        "  params.add(lm.Parameter(name='A1', value=np.sqrt(350), vary=True, min=0., max=np.inf))\n",
        "  params.add(lm.Parameter(name='A2', value=np.sqrt(200), vary=True, min=0., max=np.inf))\n",
        "  params.add(lm.Parameter(name='C', value=0, vary=True, min=-10, max=10))\n",
        "  params.add(lm.Parameter(name='phi', value=0, vary=True, min=-2*np.pi, max=np.pi))\n",
        "  lmfit(x, y, \"title\", \".\\\\\", params, fit_func)"
      ],
      "metadata": {
        "id": "woKQglfTQvWX"
      },
      "execution_count": 17,
      "outputs": []
    },
    {
      "cell_type": "code",
      "source": [
        "if __name__ == \"__main__\":\n",
        "\tmain()"
      ],
      "metadata": {
        "colab": {
          "base_uri": "https://localhost:8080/"
        },
        "id": "AfphUthpSkO3",
        "outputId": "c0aa4a2f-3b12-4be2-bc36-e87030624f6a"
      },
      "execution_count": 18,
      "outputs": [
        {
          "output_type": "stream",
          "name": "stdout",
          "text": [
            "[[Model]]\n",
            "    Model(fit_func)\n",
            "[[Fit Statistics]]\n",
            "    # fitting method   = leastsq\n",
            "    # function evals   = 93\n",
            "    # data points      = 73\n",
            "    # variables        = 4\n",
            "    chi-square         = 2.09004726\n",
            "    reduced chi-square = 0.03029054\n",
            "    Akaike info crit   = -251.388912\n",
            "    Bayesian info crit = -242.227074\n",
            "    R-squared          = 0.06840690\n",
            "[[Variables]]\n",
            "    A1:   0.35855672 +/- 0.08000065 (22.31%) (init = 18.70829)\n",
            "    A2:   0.00751982 +/- 0.05588389 (743.15%) (init = 14.14214)\n",
            "    C:    0.25756286 +/- 0.03545675 (13.77%) (init = 0)\n",
            "    phi:  0.18431989 +/- 0.22502144 (122.08%) (init = 0)\n",
            "[[Correlations]] (unreported correlations are < 0.100)\n",
            "    C(A1, C) = -0.8181\n"
          ]
        }
      ]
    }
  ]
}